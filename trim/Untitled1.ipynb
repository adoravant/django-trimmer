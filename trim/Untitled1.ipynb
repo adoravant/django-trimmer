{
 "cells": [
  {
   "cell_type": "code",
   "execution_count": 1,
   "id": "13eec6b9",
   "metadata": {},
   "outputs": [],
   "source": [
    "from bs4 import BeautifulSoup\n",
    "soup = BeautifulSoup(open(\"index.html\"))\n"
   ]
  },
  {
   "cell_type": "code",
   "execution_count": 9,
   "id": "26283e7d",
   "metadata": {},
   "outputs": [
    {
     "name": "stdout",
     "output_type": "stream",
     "text": [
      "<a class=\"twitter\" href=\"vinculo a twitter.com\"><i class=\"bi bi-twitter\"></i></a> vinculo a twitter.com\n",
      "what, \n",
      "<a class=\"facebook\" href=\"vinculo a facebook\"><i class=\"bi bi-facebook\"></i></a> vinculo a facebook\n",
      "what, \n",
      "<a class=\"linkedin\" href=\"#\"><i class=\"bi bi-linkedin\"></i></a> #\n",
      "what, \n",
      "<a href=\"index.html\">Medilab</a> index.html\n",
      "what, \n",
      "<a class=\"nav-link scrollto active\" href=\"#hero\">Home</a> #hero\n",
      "what, \n",
      "<a class=\"nav-link scrollto\" href=\"#about\">About</a> #about\n",
      "what, \n",
      "<a class=\"nav-link scrollto\" href=\"#services\">Services</a> #services\n",
      "what, \n",
      "<a class=\"nav-link scrollto\" href=\"#departments\">Departments</a> #departments\n",
      "what, \n",
      "<a class=\"nav-link scrollto\" href=\"#doctors\">Doctors</a> #doctors\n",
      "what, \n",
      "<a href=\"#\"><span>Drop Down</span> <i class=\"bi bi-chevron-down\"></i></a> #\n",
      "what, \n",
      "<a href=\"#\">Drop Down 1</a> #\n",
      "what, \n",
      "<a href=\"#\"><span>Deep Drop Down</span> <i class=\"bi bi-chevron-right\"></i></a> #\n",
      "what, \n",
      "<a href=\"#\">Deep Drop Down 1</a> #\n",
      "what, \n",
      "<a href=\"#\">Deep Drop Down 2</a> #\n",
      "what, \n",
      "<a href=\"#\">Deep Drop Down 3</a> #\n",
      "what, \n",
      "<a href=\"#\">Deep Drop Down 4</a> #\n",
      "what, \n",
      "<a href=\"#\">Deep Drop Down 5</a> #\n",
      "what, \n",
      "<a href=\"#\">Drop Down 2</a> #\n",
      "what, \n",
      "<a href=\"#\">Drop Down 3</a> #\n",
      "what, \n",
      "<a href=\"#\">Drop Down 4</a> #\n",
      "what, \n",
      "<a class=\"nav-link scrollto\" href=\"#contact\">Contact</a> #contact\n",
      "what, \n",
      "<a class=\"appointment-btn scrollto\" href=\"#appointment\"><span class=\"d-none d-md-inline\">Make an</span> Appointment</a> #appointment\n",
      "what, \n",
      "<a class=\"btn-get-started scrollto\" href=\"#about\">Get Started</a> #about\n",
      "what, \n",
      "<a class=\"more-btn\" href=\"#\">Learn More <i class=\"bx bx-chevron-right\"></i></a> #\n",
      "what, \n",
      "<a class=\"glightbox play-btn mb-4\" href=\"https://www.youtube.com/watch?v=jDDaplaOz7Q\"></a> https://www.youtube.com/watch?v=jDDaplaOz7Q\n",
      "what, \n",
      "<a href=\"\">Lorem Ipsum</a> \n",
      "what, \n",
      "<a href=\"\">Nemo Enim</a> \n",
      "what, \n",
      "<a href=\"\">Dine Pad</a> \n",
      "what, x\n",
      "<a href=\"\">Lorem Ipsum</a> \n",
      "what, \n",
      "<a href=\"\">Sed ut perspiciatis</a> \n",
      "what, x\n",
      "<a href=\"\">Magni Dolores</a> \n",
      "what, \n",
      "<a href=\"\">Nemo Enim</a> \n",
      "what, \n",
      "<a href=\"\">Dele cardo</a> \n",
      "what, \n",
      "<a href=\"\">Divera don</a> \n",
      "what, \n",
      "<a class=\"nav-link active show\" data-bs-toggle=\"tab\" href=\"#tab-1\">Cardiology</a> #tab-1\n",
      "what, \n",
      "<a class=\"nav-link\" data-bs-toggle=\"tab\" href=\"#tab-2\">Neurology</a> #tab-2\n",
      "what, \n",
      "<a class=\"nav-link\" data-bs-toggle=\"tab\" href=\"#tab-3\">Hepatology</a> #tab-3\n",
      "what, break\n"
     ]
    }
   ],
   "source": [
    "\n",
    "links = (lin for lin in soup.find_all(\"a\"))\n",
    "while True:\n",
    "    link = next(links)\n",
    "    try:\n",
    "        print(link, link[\"href\"])\n",
    "        tell = input(\"what, \")\n",
    "        if tell == \"x\":\n",
    "            link.extract()\n",
    "        elif tell == \"move\":\n",
    "            continue\n",
    "        elif tell == \"break\":\n",
    "            break\n",
    "        else:\n",
    "            link[\"href\"] = tell\n",
    "        \n",
    "    except:\n",
    "        pass"
   ]
  },
  {
   "cell_type": "code",
   "execution_count": 13,
   "id": "f7b61865",
   "metadata": {},
   "outputs": [],
   "source": [
    "with open(\"new_html.html\", \"w\") as html:\n",
    "    html.write(str(soup))"
   ]
  },
  {
   "cell_type": "code",
   "execution_count": null,
   "id": "07ae9311",
   "metadata": {},
   "outputs": [],
   "source": []
  },
  {
   "cell_type": "code",
   "execution_count": null,
   "id": "0782613e",
   "metadata": {},
   "outputs": [],
   "source": []
  },
  {
   "cell_type": "code",
   "execution_count": null,
   "id": "88a2dcc9",
   "metadata": {},
   "outputs": [],
   "source": []
  }
 ],
 "metadata": {
  "kernelspec": {
   "display_name": "Python 3 (ipykernel)",
   "language": "python",
   "name": "python3"
  },
  "language_info": {
   "codemirror_mode": {
    "name": "ipython",
    "version": 3
   },
   "file_extension": ".py",
   "mimetype": "text/x-python",
   "name": "python",
   "nbconvert_exporter": "python",
   "pygments_lexer": "ipython3",
   "version": "3.10.4"
  }
 },
 "nbformat": 4,
 "nbformat_minor": 5
}
