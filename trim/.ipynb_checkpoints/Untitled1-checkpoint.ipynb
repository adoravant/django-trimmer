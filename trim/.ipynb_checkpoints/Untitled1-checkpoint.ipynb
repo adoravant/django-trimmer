{
 "cells": [
  {
   "cell_type": "code",
   "execution_count": 1,
   "id": "13eec6b9",
   "metadata": {},
   "outputs": [],
   "source": [
    "from bs4 import BeautifulSoup\n",
    "soup = BeautifulSoup(open(\"index.html\"))\n"
   ]
  },
  {
   "cell_type": "code",
   "execution_count": 3,
   "id": "8871d995",
   "metadata": {},
   "outputs": [
    {
     "name": "stdout",
     "output_type": "stream",
     "text": [
      "<a href=\"mailto:contact@example.com\">contact@example.com</a> mailto:contact@example.com\n",
      "what, break\n"
     ]
    }
   ],
   "source": [
    "\n",
    "links = (lin for lin in soup.find_all(\"a\"))\n",
    "while True:\n",
    "    link = next(links)\n",
    "    try:\n",
    "        print(link, link[\"href\"])\n",
    "        tell = input(\"what, \")\n",
    "        if tell == \"x\":\n",
    "            link.extract()\n",
    "        elif tell == \"move\":\n",
    "            continue\n",
    "        elif tell == \"break\":\n",
    "            break\n",
    "        else:\n",
    "            link[\"href\"] = tell\n",
    "        \n",
    "    except:\n",
    "        pass"
   ]
  },
  {
   "cell_type": "code",
   "execution_count": null,
   "id": "21c2dab3",
   "metadata": {},
   "outputs": [],
   "source": []
  }
 ],
 "metadata": {
  "kernelspec": {
   "display_name": "Python 3 (ipykernel)",
   "language": "python",
   "name": "python3"
  },
  "language_info": {
   "codemirror_mode": {
    "name": "ipython",
    "version": 3
   },
   "file_extension": ".py",
   "mimetype": "text/x-python",
   "name": "python",
   "nbconvert_exporter": "python",
   "pygments_lexer": "ipython3",
   "version": "3.10.4"
  }
 },
 "nbformat": 4,
 "nbformat_minor": 5
}
